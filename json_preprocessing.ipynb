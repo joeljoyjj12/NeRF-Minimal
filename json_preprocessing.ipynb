{
  "nbformat": 4,
  "nbformat_minor": 0,
  "metadata": {
    "colab": {
      "name": "json_preprocessing.ipynb",
      "provenance": [],
      "authorship_tag": "ABX9TyMSfF7tuFhhYLv9WRqiImjW",
      "include_colab_link": true
    },
    "kernelspec": {
      "name": "python3",
      "display_name": "Python 3"
    },
    "language_info": {
      "name": "python"
    },
    "accelerator": "GPU"
  },
  "cells": [
    {
      "cell_type": "markdown",
      "metadata": {
        "id": "view-in-github",
        "colab_type": "text"
      },
      "source": [
        "<a href=\"https://colab.research.google.com/github/joeljoyjj12/NeRF-Minimal/blob/main/json_preprocessing.ipynb\" target=\"_parent\"><img src=\"https://colab.research.google.com/assets/colab-badge.svg\" alt=\"Open In Colab\"/></a>"
      ]
    },
    {
      "cell_type": "code",
      "execution_count": null,
      "metadata": {
        "id": "cKHZCRzcEJO_"
      },
      "outputs": [],
      "source": [
        "import numpy as np\n",
        "import matplotlib.pyplot as plt\n",
        "import os\n",
        "import tensorflow as tf\n",
        "\n",
        "name='chair' # name of dataset"
      ]
    },
    {
      "cell_type": "code",
      "source": [
        "# Loading Images from directory\n",
        "\n",
        "img_target=100\n",
        "\n",
        "img_folder=f'/content/{name}_images'\n",
        "\n",
        "imgs_name= list(filter(lambda x: \"depth\" not in x, os.listdir(img_folder))) \n",
        "imgs_name = sorted(imgs_name, key=lambda x: (len(x),x) )\n",
        "\n",
        "img_arr=[]\n",
        "\n",
        "print(imgs_name)"
      ],
      "metadata": {
        "id": "N12erP7PE0XM"
      },
      "execution_count": null,
      "outputs": []
    },
    {
      "cell_type": "code",
      "source": [
        "# Converting to array\n",
        "\n",
        "img_arr=[]\n",
        "\n",
        "for img_path in imgs_name:\n",
        "  imag=tf.keras.preprocessing.image.load_img(f'{img_folder}/{img_path}',target_size=(img_target,img_target))\n",
        "  temp_arr=tf.keras.preprocessing.image.img_to_array(imag)/255\n",
        "  img_arr.append(temp_arr)\n",
        "\n",
        "img_arr=np.array(img_arr)\n",
        "\n",
        "plt.grid(False)\n",
        "plt.imshow(img_arr[0])"
      ],
      "metadata": {
        "id": "hxKbWrbzE87e"
      },
      "execution_count": null,
      "outputs": []
    },
    {
      "cell_type": "code",
      "source": [
        "import json\n",
        "\n",
        "# img_dict=json.loads('/content/transforms_test.json')\n",
        "\n",
        "with open(f'{name}.json') as f:\n",
        "  img_dict = json.load(f)\n",
        "\n",
        "camera_fov=img_dict['camera_angle_x']\n",
        "focal_length=110/2/np.tan(camera_fov/2)\n",
        "\n",
        "print(img_dict)\n",
        "frames=img_dict['frames']\n",
        "pos_matrix=np.array([frame['transform_matrix'] for frame in frames])\n",
        "\n",
        "\n",
        "pos_img_dict=dict()\n",
        "\n",
        "pos_img_dict[\"images\"] = img_arr\n",
        "pos_img_dict[\"poses\"] = pos_matrix\n",
        "pos_img_dict[\"focal\"] = focal_length\n"
      ],
      "metadata": {
        "id": "o49jWIoCLkRf"
      },
      "execution_count": null,
      "outputs": []
    },
    {
      "cell_type": "code",
      "source": [
        "# pos_img_dict_1\n",
        "# pos_img_dict_2\n",
        "# pos_img_dict_3\n",
        "# pos_img_dict=dict()\n",
        "# pos_img_dict[\"poses\"]=np.append(pos_img_dict_1[\"poses\"],pos_img_dict_2[\"poses\"],axis=0)\n",
        "# pos_img_dict[\"poses\"]=np.append(pos_img_dict[\"poses\"],pos_img_dict_3[\"poses\"],axis=0)\n",
        "# pos_img_dict[\"poses\"].shape"
      ],
      "metadata": {
        "id": "eNkmqQhTeiVB"
      },
      "execution_count": null,
      "outputs": []
    },
    {
      "cell_type": "code",
      "source": [
        "# Saving\n",
        "np.save(f'{name}_data.npy',pos_img_dict)"
      ],
      "metadata": {
        "id": "ll34fVfDODmN"
      },
      "execution_count": null,
      "outputs": []
    }
  ]
}