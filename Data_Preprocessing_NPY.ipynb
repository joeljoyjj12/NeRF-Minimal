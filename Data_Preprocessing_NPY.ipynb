{
  "nbformat": 4,
  "nbformat_minor": 0,
  "metadata": {
    "colab": {
      "name": "Data Preprocessing NPY.ipynb",
      "provenance": [],
      "collapsed_sections": [],
      "authorship_tag": "ABX9TyO8+MtSrlhaAb09a9PhbsnT",
      "include_colab_link": true
    },
    "kernelspec": {
      "name": "python3",
      "display_name": "Python 3"
    },
    "language_info": {
      "name": "python"
    }
  },
  "cells": [
    {
      "cell_type": "markdown",
      "metadata": {
        "id": "view-in-github",
        "colab_type": "text"
      },
      "source": [
        "<a href=\"https://colab.research.google.com/github/joeljoyjj12/NeRF-Minimal/blob/main/Data_Preprocessing_NPY.ipynb\" target=\"_parent\"><img src=\"https://colab.research.google.com/assets/colab-badge.svg\" alt=\"Open In Colab\"/></a>"
      ]
    },
    {
      "cell_type": "code",
      "execution_count": null,
      "metadata": {
        "id": "n1j9nEsarkCr"
      },
      "outputs": [],
      "source": [
        "# Converting images to array format and saving\n",
        "# img_arr\n",
        "\n",
        "img_target=100\n",
        "pose_file='/content/poses_bounds.npy'\n",
        "img_folder='/content/room_images'\n",
        "\n",
        "data_new=np.load(pose_file)\n",
        "imgs_name=sorted(os.listdir(img_folder))\n",
        "img_arr=[]\n",
        "\n",
        "for img_path in imgs_name:\n",
        "  imag=tf.keras.preprocessing.image.load_img(f'{img_folder}/{img_path}',target_size=(img_target,img_target))\n",
        "  temp_arr=tf.keras.preprocessing.image.img_to_array(imag)/255\n",
        "  img_arr.append(temp_arr)\n",
        "\n",
        "img_arr=np.array(img_arr)\n",
        "plt.imshow(img_arr[0])\n",
        "\n",
        "# Save img array\n",
        "# np.save('fern_arr',img_arr)\n"
      ]
    },
    {
      "cell_type": "code",
      "source": [
        "# Loading poses from npy file\n",
        "\n",
        "data_new=np.load(pose_file)\n",
        "print(data_new.shape)\n",
        "\n",
        "near_bound,far_bound=data_new[19,-2:]\n",
        "pose_matrix=np.reshape(data_new[0][:15],(3,5))\n",
        "\n",
        "img_height=pose_matrix[0,-1]\n",
        "img_width=pose_matrix[1,-1]\n",
        "focal_img=pose_matrix[2,-1]\n",
        "camera_fov=np.arctan(img_height/2/focal_img,dtype='float32')*2\n",
        "\n",
        "print(\"Near and far\",near_bound,far_bound)\n",
        "print(pose_matrix)\n",
        "print(f\"Height : {img_height}, Width : {img_width}, Focal Length: {focal_img}\")\n",
        "print(f\"Camera angle : {camera_fov}\")\n",
        "\n"
      ],
      "metadata": {
        "id": "KBq5kZZZrqBI"
      },
      "execution_count": null,
      "outputs": []
    },
    {
      "cell_type": "code",
      "source": [
        "# Forming pose matrix with final row 0 0 0 1\n",
        "\n",
        "no_imgs=data_new.shape[0]\n",
        "print(no_imgs)\n",
        "\n",
        "pose_matrix=data_new[:,:15]\n",
        "pose_matrix=np.reshape(pose_matrix,(no_imgs,3,5))\n",
        "pose_matrix=pose_matrix[:,:,:4]\n",
        "pose_matrix.shape\n",
        "\n",
        "# Tiling\n",
        "tile_arr=np.tile(np.array([0,0,0,1]),(no_imgs,1,1))\n",
        "poses_conc=np.concatenate((pose_matrix, tile_arr), axis=1,dtype='float32')\n",
        "\n",
        "print(poses_conc[37])"
      ],
      "metadata": {
        "id": "0eGNmI02rsKH"
      },
      "execution_count": null,
      "outputs": []
    },
    {
      "cell_type": "code",
      "source": [
        "# Combining poses and images into a dictionary\n",
        "# img_arr - Image array, poses_conc - pose matrix\n",
        "# dict keys :- images, poses, focal\n",
        "\n",
        "pos_img_dict=dict()\n",
        "\n",
        "pos_img_dict[\"images\"] = img_arr\n",
        "pos_img_dict[\"poses\"] = poses_conc\n",
        "# pos_img_dict[\"focal\"] = (img_height/2) np.tan(camera_fov/2)\n",
        "pos_img_dict[\"focal\"] = img_target/2/np.tan(camera_fov/2)\n",
        "\n",
        "np.save('room_data.npy',pos_img_dict)\n",
        "\n",
        "new_dict = np.load('room_data.npy', allow_pickle='TRUE')\n"
      ],
      "metadata": {
        "id": "vWliVlfRrtt1"
      },
      "execution_count": null,
      "outputs": []
    }
  ]
}